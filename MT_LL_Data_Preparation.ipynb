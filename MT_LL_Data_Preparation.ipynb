{
  "nbformat": 4,
  "nbformat_minor": 0,
  "metadata": {
    "colab": {
      "provenance": [],
      "machine_shape": "hm",
      "mount_file_id": "13qwOgpeLLJ6-0OuxqQgHdgsLb20tAw7p",
      "authorship_tag": "ABX9TyOT6oDbFdFk1cT8tXbgDeSc"
    },
    "kernelspec": {
      "name": "python3",
      "display_name": "Python 3"
    },
    "language_info": {
      "name": "python"
    }
  },
  "cells": [
    {
      "cell_type": "code",
      "execution_count": null,
      "metadata": {
        "id": "k4C8y_hmZdio"
      },
      "outputs": [],
      "source": [
        "import pandas as pd\n",
        "import matplotlib.pyplot as plt\n",
        "import numpy as np\n",
        "import seaborn as sns\n"
      ]
    },
    {
      "cell_type": "code",
      "source": [
        "from google.colab import drive\n",
        "drive.mount('/content/drive')"
      ],
      "metadata": {
        "colab": {
          "base_uri": "https://localhost:8080/"
        },
        "id": "heqIISk_nNto",
        "outputId": "1067cde9-dc2c-461e-ba75-5ffa32a99896"
      },
      "execution_count": null,
      "outputs": [
        {
          "output_type": "stream",
          "name": "stdout",
          "text": [
            "Drive already mounted at /content/drive; to attempt to forcibly remount, call drive.mount(\"/content/drive\", force_remount=True).\n"
          ]
        }
      ]
    },
    {
      "cell_type": "code",
      "source": [
        "train = pd.read_csv(\"/content/drive/MyDrive/Master Thesis/Data/train.csv\")\n",
        "test = pd.read_csv(\"/content/drive/MyDrive/Master Thesis/Data/test.csv\")\n",
        "stores = pd.read_csv(\"/content/drive/MyDrive/Master Thesis/Data/stores.csv\")\n",
        "items = pd.read_csv(\"/content/drive/MyDrive/Master Thesis/Data/items.csv\")\n",
        "trans = pd.read_csv(\"/content/drive/MyDrive/Master Thesis/Data/transactions.csv\")\n",
        "oil = pd.read_csv(\"/content/drive/MyDrive/Master Thesis/Data/oil.csv\")\n",
        "holidays = pd.read_csv(\"/content/drive/MyDrive/Master Thesis/Data/holidays_events.csv\")"
      ],
      "metadata": {
        "colab": {
          "base_uri": "https://localhost:8080/"
        },
        "id": "JXUekMA7oQau",
        "outputId": "6ed26502-39b3-4701-93fb-415e0a36423b"
      },
      "execution_count": null,
      "outputs": [
        {
          "output_type": "stream",
          "name": "stderr",
          "text": [
            "<ipython-input-3-d1d6c219e63c>:1: DtypeWarning: Columns (5) have mixed types. Specify dtype option on import or set low_memory=False.\n",
            "  train = pd.read_csv(\"/content/drive/MyDrive/Master Thesis/Data/train.csv\")\n"
          ]
        }
      ]
    },
    {
      "cell_type": "markdown",
      "source": [
        "# Dataset Simplification"
      ],
      "metadata": {
        "id": "gFY994W7p4eG"
      }
    },
    {
      "cell_type": "markdown",
      "source": [
        "## Step 1: Train dataset filtering"
      ],
      "metadata": {
        "id": "__P88bYE5kjT"
      }
    },
    {
      "cell_type": "markdown",
      "source": [
        "Consolidation of a new CSV file containing only sales information for all items sold in 2015 and 2016"
      ],
      "metadata": {
        "id": "KYwxAW9T2voh"
      }
    },
    {
      "cell_type": "code",
      "source": [
        "# Filter items for the 'BREAD/BAKERY' category\n",
        "bakery_items = items[items['family'] == 'BREAD/BAKERY']\n",
        "\n",
        "# Merge the sales data with filtered item data\n",
        "filtered_sales = pd.merge(train, bakery_items, on='item_nbr')\n",
        "\n",
        "# Convert the 'date' column to datetime type\n",
        "filtered_sales['date'] = pd.to_datetime(filtered_sales['date'])\n",
        "\n",
        "# Filter by date to include data from January 2015 to december 2016 (2years)\n",
        "filtered_sales = filtered_sales[\n",
        "    (filtered_sales['date'].dt.year == 2015) |\n",
        "    (filtered_sales['date'].dt.year == 2016)]\n",
        "\n",
        "# Identify the store with the highest number of sales\n",
        "store_counts = filtered_sales['store_nbr'].value_counts()\n",
        "most_sales_store = store_counts.idxmax()\n",
        "\n",
        "# Filter the data for the store with the most sales\n",
        "most_sales_data = filtered_sales[filtered_sales['store_nbr'] == most_sales_store]\n",
        "\n",
        "# Save the filtered data to a new CSV file\n",
        "most_sales_data.to_csv(\"/content/drive/MyDrive/Master Thesis/Data/filtered_train_most_sales_store.csv\", index=False)\n",
        "\n",
        "print(f\"The store with the highest number of sales for BREAD/BAKERY products is store number {most_sales_store} with {store_counts[most_sales_store]} entries.\")"
      ],
      "metadata": {
        "colab": {
          "base_uri": "https://localhost:8080/"
        },
        "id": "yJO1YK200Yjt",
        "outputId": "b884138f-e988-4bfb-efa1-b3628a39ef31"
      },
      "execution_count": null,
      "outputs": [
        {
          "output_type": "stream",
          "name": "stdout",
          "text": [
            "The store with the highest number of sales for BREAD/BAKERY products is store number 45 with 66587 entries.\n"
          ]
        }
      ]
    },
    {
      "cell_type": "markdown",
      "source": [
        "Information on the store with the most sales\n"
      ],
      "metadata": {
        "id": "r88O6zoZ3fDh"
      }
    },
    {
      "cell_type": "code",
      "source": [
        "store_info = stores[stores['store_nbr'] == 45]\n",
        "\n",
        "print(\"Location details of store number 45:\")\n",
        "print(store_info)"
      ],
      "metadata": {
        "colab": {
          "base_uri": "https://localhost:8080/"
        },
        "id": "x9YBujtswVWL",
        "outputId": "bba52d41-18a3-4fe2-c132-4b27748f6a04"
      },
      "execution_count": null,
      "outputs": [
        {
          "output_type": "stream",
          "name": "stdout",
          "text": [
            "Location details of store number 45:\n",
            "    store_nbr   city      state type  cluster\n",
            "44         45  Quito  Pichincha    A       11\n"
          ]
        }
      ]
    },
    {
      "cell_type": "markdown",
      "source": [
        " Some sales values are floating because some items are sold by weight. My aim is to identify these and remove them so as to have only items sold by quantity.\n",
        "\n",
        " In addition, I delete unnecessary columns that are the same for each line, such as family (all BREADS/BAKERY), store number (all 45) and perishables (all perishables)."
      ],
      "metadata": {
        "id": "lM6WVykZ4XHf"
      }
    },
    {
      "cell_type": "code",
      "source": [
        "filtered_train = pd.read_csv(\"/content/drive/MyDrive/Master Thesis/Data/filtered_train_most_sales_store.csv\")\n",
        "\n",
        "# Display the first few rows to check the data\n",
        "print(\"Before modification:\")\n",
        "print(filtered_train.head())\n",
        "\n",
        "# Filter rows where 'unit_sales' is an integer\n",
        "filtered_train = filtered_train[filtered_train['unit_sales'].apply(lambda x: x.is_integer())]\n",
        "\n",
        "# Convert 'unit_sales' from float to int\n",
        "filtered_train['unit_sales'] = filtered_train['unit_sales'].astype(int)\n",
        "\n",
        "# Remove unnecessary columns\n",
        "filtered_train = filtered_train.drop(['family', 'store_nbr', 'perishable'], axis=1)\n",
        "\n",
        "filtered_train.onpromotion = filtered_train.onpromotion.astype(\"float16\")\n",
        "filtered_train['onpromotion'] = filtered_train['onpromotion'].astype(int)\n",
        "\n",
        "# Save the modifications to the same file, overwriting existing data\n",
        "filtered_train.to_csv(\"/content/drive/MyDrive/Master Thesis/Data/filtered_train_most_sales_store.csv\", index=False)\n",
        "\n",
        "# Reload to check the modifications\n",
        "updated_data = pd.read_csv(\"/content/drive/MyDrive/Master Thesis/Data/filtered_train_most_sales_store.csv\")\n",
        "print(\"\\nAfter modification:\")\n",
        "print(updated_data.head())"
      ],
      "metadata": {
        "colab": {
          "base_uri": "https://localhost:8080/"
        },
        "id": "KH5q60cIDup8",
        "outputId": "f7921d7e-a46b-441e-9ce6-386188b05e35"
      },
      "execution_count": null,
      "outputs": [
        {
          "output_type": "stream",
          "name": "stdout",
          "text": [
            "Before modification:\n",
            "         id        date  store_nbr  item_nbr  unit_sales  onpromotion  \\\n",
            "0  38642776  2015-01-02         45    103665         8.0        False   \n",
            "1  38704321  2015-01-03         45    103665         7.0        False   \n",
            "2  38765417  2015-01-04         45    103665         6.0        False   \n",
            "3  38825221  2015-01-05         45    103665         7.0        False   \n",
            "4  38883044  2015-01-06         45    103665         3.0        False   \n",
            "\n",
            "         family  class  perishable  \n",
            "0  BREAD/BAKERY   2712           1  \n",
            "1  BREAD/BAKERY   2712           1  \n",
            "2  BREAD/BAKERY   2712           1  \n",
            "3  BREAD/BAKERY   2712           1  \n",
            "4  BREAD/BAKERY   2712           1  \n",
            "\n",
            "After modification:\n",
            "         id        date  item_nbr  unit_sales  onpromotion  class\n",
            "0  38642776  2015-01-02    103665           8            0   2712\n",
            "1  38704321  2015-01-03    103665           7            0   2712\n",
            "2  38765417  2015-01-04    103665           6            0   2712\n",
            "3  38825221  2015-01-05    103665           7            0   2712\n",
            "4  38883044  2015-01-06    103665           3            0   2712\n"
          ]
        }
      ]
    },
    {
      "cell_type": "markdown",
      "source": [
        "For the sake of simplification, I will only focus on forecasting the sales of the 2 best-selling products in the store."
      ],
      "metadata": {
        "id": "D1mi167r46El"
      }
    },
    {
      "cell_type": "code",
      "source": [
        "# Group the data by item number and sum the unit sales\n",
        "grouped_data = filtered_train.groupby('item_nbr')['unit_sales'].sum().reset_index()\n",
        "\n",
        "# Sort the data to find the top 5 items with the highest unit sales\n",
        "top2_items = grouped_data.sort_values(by='unit_sales', ascending=False).head(2)\n",
        "\n",
        "# Filter the original data to only include rows that belong to the top 2 items\n",
        "top2_data_1 = filtered_train[filtered_train['item_nbr'].isin(top2_items['item_nbr'])]\n",
        "\n",
        "# Ensure the 'date' column is in datetime format\n",
        "top2_data_1['date'] = pd.to_datetime(top2_data_1['date'])\n",
        "\n",
        "# Define a function to fill missing dates using the value from the same weekday of the previous week\n",
        "def fill_missing_dates(group):\n",
        "    # Create a complete date range for each group\n",
        "    date_range = pd.date_range(start=group['date'].min(), end=group['date'].max())\n",
        "    # Reindex the group\n",
        "    group = group.set_index('date').reindex(date_range)\n",
        "    # Backfill missing values from the same weekday of the previous week\n",
        "    for date in group.index:\n",
        "        if pd.isna(group.loc[date, 'item_nbr']):\n",
        "            # Calculate the date exactly one week prior\n",
        "            date_week_ago = date - pd.DateOffset(days=7)\n",
        "            if date_week_ago in group.index:\n",
        "                group.loc[date] = group.loc[date_week_ago]\n",
        "    return group.reset_index().rename(columns={'index': 'date'})\n",
        "\n",
        "# Group by 'item_nbr' and apply the function to fill missing dates\n",
        "top2_data = top2_data_1.groupby('item_nbr').apply(fill_missing_dates).reset_index(drop=True)\n",
        "\n",
        "# Save the updated data\n",
        "top2_data.to_csv('/content/drive/MyDrive/Master Thesis/Data/train_top2.csv', index=False)"
      ],
      "metadata": {
        "id": "YjmKMTdCTkX8",
        "colab": {
          "base_uri": "https://localhost:8080/"
        },
        "outputId": "ea28f64d-c34d-45d9-de5f-9035b28a17d9"
      },
      "execution_count": null,
      "outputs": [
        {
          "output_type": "stream",
          "name": "stderr",
          "text": [
            "<ipython-input-7-cc799f697bb4>:11: SettingWithCopyWarning: \n",
            "A value is trying to be set on a copy of a slice from a DataFrame.\n",
            "Try using .loc[row_indexer,col_indexer] = value instead\n",
            "\n",
            "See the caveats in the documentation: https://pandas.pydata.org/pandas-docs/stable/user_guide/indexing.html#returning-a-view-versus-a-copy\n",
            "  top2_data_1['date'] = pd.to_datetime(top2_data_1['date'])\n"
          ]
        }
      ]
    },
    {
      "cell_type": "markdown",
      "source": [
        "## Step 2: Variables dataset creation"
      ],
      "metadata": {
        "id": "LGMq35k9zupu"
      }
    },
    {
      "cell_type": "markdown",
      "source": [
        "Based on the files provided in the core dataset, my aim will be to consolidate a new file including relevant variables in 2015 and 2016 so that the algorithms can better identify trends and patterns.\n",
        "\n",
        "The new variables are:\n",
        "\n",
        "* Date related variables\n",
        "* Maximum temperature of the day\n",
        "* Minimum temperature of the day\n",
        "* Special day variables\n",
        "* Name of the locality\n",
        "* Whether it's a special day\n",
        "* Oil price of the day"
      ],
      "metadata": {
        "id": "1gfpv_7152_F"
      }
    },
    {
      "cell_type": "markdown",
      "source": [
        "First, based on the \"holiday_event\" file which includes special dates, I will create three binary variables to determine if for each day:\n",
        "\n",
        "* If there is a national holiday.\n",
        "* If there is a local holiday in the city of Quito.\n",
        "* If there is a national event.(there are only national events)\n",
        "\n",
        "I did not include regional because there are no holidays or events specific to the region in which Quito is located, which is Pichincha."
      ],
      "metadata": {
        "id": "ZEpxGM0KHwdw"
      }
    },
    {
      "cell_type": "code",
      "source": [
        "# Load the dataset\n",
        "special_day = pd.read_csv('/content/drive/MyDrive/Master Thesis/Data/holidays_events.csv')\n",
        "\n",
        "# Convert 'date' column to datetime type\n",
        "special_day['date'] = pd.to_datetime(special_day['date'])\n",
        "\n",
        "# Define conditions for special day attributes\n",
        "conditions = {\n",
        "    'event_national': ((special_day['type'] == 'Event') & (special_day['locale'] == 'National')).astype(int),\n",
        "    'holiday_national': ((special_day['type'] != 'Work Day') & (special_day['type'] != 'Event') & (special_day['locale'] == 'National')).astype(int),\n",
        "    'holiday_local': ((special_day['type'] != 'Work Day') & (special_day['type'] != 'Event') & (special_day['locale_name'] == 'Quito')).astype(int),\n",
        "}\n",
        "\n",
        "# Apply the conditions to the original data\n",
        "for column, condition in conditions.items():\n",
        "    special_day[column] = condition\n",
        "\n",
        "# Reduce the special_day to only necessary columns\n",
        "special_day = special_day[['date', 'event_national', 'holiday_national', 'holiday_local']]\n",
        "\n",
        "# Save to CSV\n",
        "special_day.to_csv('/content/drive/MyDrive/Master Thesis/Data/special_day.csv', index=False)\n",
        "\n",
        "print(special_day.head())"
      ],
      "metadata": {
        "colab": {
          "base_uri": "https://localhost:8080/"
        },
        "id": "EGorkETAYyVk",
        "outputId": "88b3d76f-c9db-4d0d-f036-2bf810b45b4b"
      },
      "execution_count": null,
      "outputs": [
        {
          "output_type": "stream",
          "name": "stdout",
          "text": [
            "        date  event_national  holiday_national  holiday_local\n",
            "0 2012-03-02               0                 0              0\n",
            "1 2012-04-01               0                 0              0\n",
            "2 2012-04-12               0                 0              0\n",
            "3 2012-04-14               0                 0              0\n",
            "4 2012-04-21               0                 0              0\n"
          ]
        }
      ]
    },
    {
      "cell_type": "markdown",
      "source": [
        "Next, I will create several variables related to the date. These are:\n",
        "\n",
        "* The month\n",
        "* The day of the month\n",
        "* The week of the month\n",
        "* The day of the week\n",
        "* The year\n",
        "* The season\n",
        "* If it's a working day or not\n",
        "* If it's the payday or not.\n",
        "\n",
        "Transforming Cyclical Features:\n",
        "Cyclical features such as days of the week or months of the year are not linear (e.g., after December comes January), but standard numeric encoding can mislead the model into treating them as ordinal variables. To address this, we can use sine and cosine transformations to maintain the cyclicity of these variables."
      ],
      "metadata": {
        "id": "aI39KvcCdLPg"
      }
    },
    {
      "cell_type": "code",
      "source": [
        "# Creating a date range DataFrame\n",
        "dates = pd.date_range(start='2015-01-01', end='2017-01-01', freq='D')\n",
        "df_date = pd.DataFrame(dates, columns=['date'])\n",
        "\n",
        "# Merge with the special_day DataFrame, filling missing values with 0\n",
        "df_date = df_date.merge(special_day, on='date', how='left').fillna(0)\n",
        "df_date[['event_national', 'holiday_national', 'holiday_local']] = df_date[['event_national', 'holiday_national', 'holiday_local']].astype(int)\n",
        "\n",
        "# Adding additional columns with numerical variables\n",
        "df_date['month'] = df_date['date'].dt.month.astype(\"int8\")\n",
        "df_date['day_of_month'] = df_date['date'].dt.day.astype(\"int8\")\n",
        "df_date['week_of_month'] = ((df_date['date'].dt.day - 1) // 7 + 1).astype(\"int8\")\n",
        "df_date['day_of_week'] = (df_date['date'].dt.dayofweek + 1).astype(\"int8\")\n",
        "df_date['year'] = df_date['date'].dt.year.astype(\"int32\")\n",
        "\n",
        "\n",
        "# Function to determine the season\n",
        "def get_season(month):\n",
        "    if month in [3, 4, 5]:\n",
        "        return 1  # Spring\n",
        "    elif month in [6, 7, 8]:\n",
        "        return 2  # Summer\n",
        "    elif month in [9, 10, 11]:\n",
        "        return 3  # Autumn\n",
        "    else:\n",
        "        return 0  # Winter\n",
        "\n",
        "df_date['season'] = df_date['month'].apply(get_season).astype(\"int8\")\n",
        "\n",
        "\n",
        "# Workday column\n",
        "df_date[\"workday\"] = np.where(\n",
        "    (df_date[\"day_of_week\"].isin([6, 7])) |  # weekend condition\n",
        "    (df_date[\"holiday_local\"] == 1) |       # local holiday condition\n",
        "    (df_date[\"holiday_national\"] == 1),     # national holiday condition\n",
        "    0,                                      # if any condition is true, then 0 (not a workday)\n",
        "    1                                       # otherwise, 1 (it is a workday)\n",
        ").astype(\"int8\")\n",
        "\n",
        "\n",
        "df_date[\"wageday\"] = np.where((df_date[\"day_of_month\"] == 30) | (df_date[\"day_of_month\"] == 15), 1, 0).astype(\"int8\")\n",
        "\n",
        "# Transform 'day_of_week', 'month', 'day_of_month', 'day_of_year', 'week_of_month', and 'week_of_year' using sine and cosine\n",
        "for feature, max_value in zip(['month', 'day_of_month', 'week_of_month', 'day_of_week', 'season'],\n",
        "                              [12, 31, 5, 7, 4]):  # max values based on the highest number each feature can take\n",
        "    df_date[f'{feature}_sin'] = np.sin(df_date[feature] * (2. * np.pi / max_value))\n",
        "    df_date[f'{feature}_cos'] = np.cos(df_date[feature] * (2. * np.pi / max_value))\n",
        "\n",
        "# Display the final DataFrame\n",
        "print(df_date.head())"
      ],
      "metadata": {
        "colab": {
          "base_uri": "https://localhost:8080/"
        },
        "id": "QLRCHO3hb-Nm",
        "outputId": "1ed166c5-e3fa-492c-8edf-d720e916976d"
      },
      "execution_count": null,
      "outputs": [
        {
          "output_type": "stream",
          "name": "stdout",
          "text": [
            "        date  event_national  holiday_national  holiday_local  month  \\\n",
            "0 2015-01-01               0                 1              0      1   \n",
            "1 2015-01-02               0                 1              0      1   \n",
            "2 2015-01-03               0                 0              0      1   \n",
            "3 2015-01-04               0                 0              0      1   \n",
            "4 2015-01-05               0                 0              0      1   \n",
            "\n",
            "   day_of_month  week_of_month  day_of_week  year  season  ...  month_sin  \\\n",
            "0             1              1            4  2015       0  ...        0.5   \n",
            "1             2              1            5  2015       0  ...        0.5   \n",
            "2             3              1            6  2015       0  ...        0.5   \n",
            "3             4              1            7  2015       0  ...        0.5   \n",
            "4             5              1            1  2015       0  ...        0.5   \n",
            "\n",
            "   month_cos  day_of_month_sin  day_of_month_cos  week_of_month_sin  \\\n",
            "0   0.866025          0.201299          0.979530           0.951057   \n",
            "1   0.866025          0.394356          0.918958           0.951057   \n",
            "2   0.866025          0.571268          0.820763           0.951057   \n",
            "3   0.866025          0.724793          0.688967           0.951057   \n",
            "4   0.866025          0.848644          0.528964           0.951057   \n",
            "\n",
            "   week_of_month_cos  day_of_week_sin  day_of_week_cos  season_sin  season_cos  \n",
            "0           0.309017    -4.338837e-01        -0.900969         0.0         1.0  \n",
            "1           0.309017    -9.749279e-01        -0.222521         0.0         1.0  \n",
            "2           0.309017    -7.818315e-01         0.623490         0.0         1.0  \n",
            "3           0.309017    -2.449294e-16         1.000000         0.0         1.0  \n",
            "4           0.309017     7.818315e-01         0.623490         0.0         1.0  \n",
            "\n",
            "[5 rows x 22 columns]\n"
          ]
        }
      ]
    },
    {
      "cell_type": "code",
      "source": [
        "# Standard Encoding\n",
        "\n",
        "two_weeks_data = df_date.head(14)\n",
        "\n",
        "plt.figure(figsize=(4, 4))\n",
        "plt.plot(two_weeks_data['day_of_week'], marker='o', linestyle='-', markersize=6, linewidth=1)\n",
        "plt.xlabel('Index')\n",
        "plt.ylabel('Day of the Week')\n",
        "plt.title('Standard Encoding Day of the Week')\n",
        "plt.yticks(ticks=range(1, 8), labels=['Monday', 'Tuesday', 'Wednesday', 'Thursday', 'Friday', 'Saturday', 'Sunday'])\n",
        "plt.grid(True)\n",
        "plt.show()"
      ],
      "metadata": {
        "colab": {
          "base_uri": "https://localhost:8080/",
          "height": 410
        },
        "id": "fRq7CkozVCE5",
        "outputId": "39c329bc-8c59-47d3-c16d-db2c26ad420f"
      },
      "execution_count": null,
      "outputs": [
        {
          "output_type": "display_data",
          "data": {
            "text/plain": [
              "<Figure size 400x400 with 1 Axes>"
            ],
            "image/png": "[encoded data removed]"
          },
          "metadata": {}
        }
      ]
    },
    {
      "cell_type": "code",
      "source": [
        "# Plotting the circular plot for day of the week\n",
        "plt.figure(figsize=(4, 4))\n",
        "plt.scatter(df_date['day_of_week_sin'], df_date['day_of_week_cos'])\n",
        "plt.title('Circular Encoding Day of Week')\n",
        "plt.xlabel('Day of Week Sin')\n",
        "plt.ylabel('Day of Week Cos')\n",
        "plt.grid(True)\n",
        "plt.axhline(0, color='black', linewidth=0.5)\n",
        "plt.axvline(0, color='black', linewidth=0.5)\n",
        "plt.show()"
      ],
      "metadata": {
        "colab": {
          "base_uri": "https://localhost:8080/",
          "height": 410
        },
        "id": "WFsBC4feSeLt",
        "outputId": "7284b8bf-b32d-4cdf-fb83-0d753161b981"
      },
      "execution_count": null,
      "outputs": [
        {
          "output_type": "display_data",
          "data": {
            "text/plain": [
              "<Figure size 400x400 with 1 Axes>"
            ],
            "image/png": "[encoded data removed]"
          },
          "metadata": {}
        }
      ]
    },
    {
      "cell_type": "code",
      "source": [
        "# Load the weather data\n",
        "weather_data_path = '/content/drive/MyDrive/Master Thesis/Data/weather.csv'\n",
        "weather_df = pd.read_csv(weather_data_path)\n",
        "weather_df['datetime'] = pd.to_datetime(weather_df['datetime'])\n",
        "\n",
        "# Merge the weather DataFrame with the date DataFrame\n",
        "df_date = pd.merge(df_date, weather_df, left_on='date', right_on='datetime', how='left')\n",
        "df_date.drop(columns='datetime', inplace=True)  # Drop the duplicate datetime column\n",
        "\n",
        "# Load oil data\n",
        "oil_data_path = '/content/drive/MyDrive/Master Thesis/Data/oil.csv'\n",
        "oil_df = pd.read_csv(oil_data_path)\n",
        "oil_df['date'] = pd.to_datetime(oil_df['date'])\n",
        "\n",
        "# Merge oil data with the df_date DataFrame and rename the oil price column\n",
        "oil_df.rename(columns={'dcoilwtico': 'oil_price'}, inplace=True)\n",
        "df_date = pd.merge(df_date, oil_df, on='date', how='left')  # Use 'on' instead of 'left_on' and 'right_on'\n",
        "df_date['oil_price'].fillna(np.nan, inplace=True)  # Ensure all missing oil prices are NaN\n",
        "\n",
        "# Save the final DataFrame\n",
        "variables_data_path = '/content/drive/MyDrive/Master Thesis/Data/variables.csv'\n",
        "df_date.to_csv(variables_data_path, index=False)"
      ],
      "metadata": {
        "id": "kVSFathaN32B"
      },
      "execution_count": null,
      "outputs": []
    },
    {
      "cell_type": "markdown",
      "source": [
        "## Step 3: Merge the two files to create the new dataset\n"
      ],
      "metadata": {
        "id": "pwxtSBc_-61f"
      }
    },
    {
      "cell_type": "code",
      "source": [
        "# Load the sales data of the top 2 item\n",
        "sales_data_path = '/content/drive/MyDrive/Master Thesis/Data/train_top2.csv'\n",
        "train_top2_df = pd.read_csv(sales_data_path)\n",
        "\n",
        "variables_data_path = '/content/drive/MyDrive/Master Thesis/Data/variables.csv'\n",
        "variables_df = pd.read_csv(variables_data_path)\n",
        "\n",
        "# Ensure both 'date' columns in the dataframes are converted to datetime\n",
        "train_top2_df['date'] = pd.to_datetime(train_top2_df['date'])\n",
        "variables_df['date'] = pd.to_datetime(variables_df['date'])\n",
        "\n",
        "# Rename 'Date' in variables_df to 'date'\n",
        "variables_df.rename(columns={'date': 'date'}, inplace=True)\n",
        "\n",
        "# Perform the merge operation using 'date' as the key, ensuring to use the column from the train_top5_df\n",
        "final_dataset_df = pd.merge(train_top2_df, variables_df, on='date', how='left')\n",
        "\n",
        "# Add a new column 'item_name' based on the values in 'items_nbr'\n",
        "final_dataset_df['item_name'] = final_dataset_df['item_nbr'].map({\n",
        "    502331: 'A',\n",
        "    1333307: 'B'\n",
        "})\n",
        "\n",
        "# Save the merged DataFrame to a new CSV file\n",
        "final_dataset_path = '/content/drive/MyDrive/Master Thesis/Final Data/final_dataset.csv'\n",
        "final_dataset_df.to_csv(final_dataset_path, index=False)"
      ],
      "metadata": {
        "id": "Jekoyu0K_EYL"
      },
      "execution_count": null,
      "outputs": []
    },
    {
      "cell_type": "markdown",
      "source": [
        "Data quality check"
      ],
      "metadata": {
        "id": "JmxJ5hkNNswF"
      }
    },
    {
      "cell_type": "code",
      "source": [
        "# Load the dataset\n",
        "data_check = pd.read_csv('/content/drive/MyDrive/Master Thesis/Final Data/final_dataset.csv')\n",
        "\n",
        "# Display the first few rows\n",
        "print(data_check.head())\n",
        "\n",
        "# Display the last few rows\n",
        "print(data_check.tail())\n",
        "\n",
        "# Print the shape of the dataset\n",
        "print(\"Number of rows:\", data_check.shape[0])\n",
        "print(\"Number of columns:\", data_check.shape[1])"
      ],
      "metadata": {
        "colab": {
          "base_uri": "https://localhost:8080/"
        },
        "id": "hKaEzAd5NsTO",
        "outputId": "cc1d9c86-0f73-4236-9a3c-2e9a94aaab59"
      },
      "execution_count": null,
      "outputs": [
        {
          "output_type": "stream",
          "name": "stdout",
          "text": [
            "         date        id  item_nbr  unit_sales  onpromotion  class  \\\n",
            "0  2015-01-02  38643255    502331         117        False   2702   \n",
            "1  2015-01-03  38704801    502331         110        False   2702   \n",
            "2  2015-01-04  38765895    502331         180        False   2702   \n",
            "3  2015-01-05  38825684    502331         106        False   2702   \n",
            "4  2015-01-06  38883513    502331          87        False   2702   \n",
            "\n",
            "   event_national  holiday_national  holiday_local  month  ...  \\\n",
            "0           False              True          False      1  ...   \n",
            "1           False             False          False      1  ...   \n",
            "2           False             False          False      1  ...   \n",
            "3           False             False          False      1  ...   \n",
            "4           False             False          False      1  ...   \n",
            "\n",
            "   week_of_month_sin  week_of_month_cos  day_of_week_sin  day_of_week_cos  \\\n",
            "0           0.951057           0.309017    -9.749279e-01        -0.222521   \n",
            "1           0.951057           0.309017    -7.818315e-01         0.623490   \n",
            "2           0.951057           0.309017    -2.449294e-16         1.000000   \n",
            "3           0.951057           0.309017     7.818315e-01         0.623490   \n",
            "4           0.951057           0.309017     9.749279e-01        -0.222521   \n",
            "\n",
            "   season_sin  season_cos  tempmax  tempmin  oil_price  item_name  \n",
            "0         0.0         1.0     24.5     11.1      52.72          A  \n",
            "1         0.0         1.0     24.6      7.2      52.72          A  \n",
            "2         0.0         1.0     21.9      9.1      52.72          A  \n",
            "3         0.0         1.0     22.7      7.1      50.05          A  \n",
            "4         0.0         1.0     24.7      8.1      47.98          A  \n",
            "\n",
            "[5 rows x 31 columns]\n",
            "            date         id  item_nbr  unit_sales  onpromotion  class  \\\n",
            "1455  2016-12-27  101235102   1333307          49        False   2786   \n",
            "1456  2016-12-28  101341221   1333307          88        False   2786   \n",
            "1457  2016-12-29  101447383   1333307          75        False   2786   \n",
            "1458  2016-12-30  101557223   1333307          85        False   2786   \n",
            "1459  2016-12-31  101667895   1333307          86        False   2786   \n",
            "\n",
            "      event_national  holiday_national  holiday_local  month  ...  \\\n",
            "1455           False             False          False     12  ...   \n",
            "1456           False             False          False     12  ...   \n",
            "1457           False             False          False     12  ...   \n",
            "1458           False             False          False     12  ...   \n",
            "1459           False              True          False     12  ...   \n",
            "\n",
            "      week_of_month_sin  week_of_month_cos  day_of_week_sin  day_of_week_cos  \\\n",
            "1455      -9.510565e-01           0.309017         0.974928        -0.222521   \n",
            "1456      -9.510565e-01           0.309017         0.433884        -0.900969   \n",
            "1457      -2.449294e-16           1.000000        -0.433884        -0.900969   \n",
            "1458      -2.449294e-16           1.000000        -0.974928        -0.222521   \n",
            "1459      -2.449294e-16           1.000000        -0.781831         0.623490   \n",
            "\n",
            "      season_sin  season_cos  tempmax  tempmin  oil_price  item_name  \n",
            "1455         0.0         1.0     22.9     10.9      52.82          B  \n",
            "1456         0.0         1.0     24.0     11.9      54.01          B  \n",
            "1457         0.0         1.0     23.1     10.9      53.80          B  \n",
            "1458         0.0         1.0     20.1     11.1      53.75          B  \n",
            "1459         0.0         1.0     21.9     11.5      53.75          B  \n",
            "\n",
            "[5 rows x 31 columns]\n",
            "Number of rows: 1460\n",
            "Number of columns: 31\n"
          ]
        }
      ]
    },
    {
      "cell_type": "code",
      "source": [
        "# Display data types of each column\n",
        "print(data_check.dtypes)\n",
        "\n",
        "# Count missing values in each column\n",
        "print(data_check.isnull().sum())"
      ],
      "metadata": {
        "colab": {
          "base_uri": "https://localhost:8080/"
        },
        "id": "4OCc4dkYOQJM",
        "outputId": "1d7a28e5-f837-4b29-f85c-e1b6c75cb8e2"
      },
      "execution_count": null,
      "outputs": [
        {
          "output_type": "stream",
          "name": "stdout",
          "text": [
            "date                  object\n",
            "id                     int64\n",
            "item_nbr               int64\n",
            "unit_sales             int64\n",
            "onpromotion             bool\n",
            "class                  int64\n",
            "event_national          bool\n",
            "holiday_national        bool\n",
            "holiday_local           bool\n",
            "month                  int64\n",
            "day_of_month           int64\n",
            "week_of_month          int64\n",
            "day_of_week            int64\n",
            "year                   int64\n",
            "season                 int64\n",
            "workday                 bool\n",
            "wageday                 bool\n",
            "month_sin            float64\n",
            "month_cos            float64\n",
            "day_of_month_sin     float64\n",
            "day_of_month_cos     float64\n",
            "week_of_month_sin    float64\n",
            "week_of_month_cos    float64\n",
            "day_of_week_sin      float64\n",
            "day_of_week_cos      float64\n",
            "season_sin           float64\n",
            "season_cos           float64\n",
            "tempmax              float64\n",
            "tempmin              float64\n",
            "oil_price            float64\n",
            "item_name             object\n",
            "dtype: object\n",
            "date                 0\n",
            "id                   0\n",
            "item_nbr             0\n",
            "unit_sales           0\n",
            "onpromotion          0\n",
            "class                0\n",
            "event_national       0\n",
            "holiday_national     0\n",
            "holiday_local        0\n",
            "month                0\n",
            "day_of_month         0\n",
            "week_of_month        0\n",
            "day_of_week          0\n",
            "year                 0\n",
            "season               0\n",
            "workday              0\n",
            "wageday              0\n",
            "month_sin            0\n",
            "month_cos            0\n",
            "day_of_month_sin     0\n",
            "day_of_month_cos     0\n",
            "week_of_month_sin    0\n",
            "week_of_month_cos    0\n",
            "day_of_week_sin      0\n",
            "day_of_week_cos      0\n",
            "season_sin           0\n",
            "season_cos           0\n",
            "tempmax              0\n",
            "tempmin              0\n",
            "oil_price            0\n",
            "item_name            0\n",
            "dtype: int64\n"
          ]
        }
      ]
    },
    {
      "cell_type": "code",
      "source": [
        "# Convert to the right type\n",
        "file_path = '/content/drive/MyDrive/Master Thesis/Final Data/final_dataset.csv'\n",
        "df = pd.read_csv(file_path)\n",
        "\n",
        "# Change the variable types\n",
        "df = df.astype({\n",
        "    'id': 'int',\n",
        "    'onpromotion': 'bool',\n",
        "    'item_nbr': 'int',\n",
        "    'unit_sales': 'int',\n",
        "    'class': 'int',\n",
        "    'event_national': 'bool',\n",
        "    'holiday_national': 'bool',\n",
        "    'holiday_local': 'bool',\n",
        "    'workday': 'bool',\n",
        "    'wageday': 'bool'\n",
        "})\n",
        "\n",
        "# Convert the 'date' column to datetime\n",
        "df['date'] = pd.to_datetime(df['date'])\n",
        "\n",
        "# Save the modified DataFrame back to a CSV file\n",
        "df.to_csv(file_path, index=False)\n",
        "\n",
        "print(\"Data types after conversion:\")\n",
        "print(df.dtypes)"
      ],
      "metadata": {
        "colab": {
          "base_uri": "https://localhost:8080/"
        },
        "id": "BiSayjMFn59N",
        "outputId": "8485dfe3-b651-4fba-a5e6-f8aa70003438"
      },
      "execution_count": null,
      "outputs": [
        {
          "output_type": "stream",
          "name": "stdout",
          "text": [
            "Data types after conversion:\n",
            "date                 datetime64[ns]\n",
            "id                            int64\n",
            "item_nbr                      int64\n",
            "unit_sales                    int64\n",
            "onpromotion                    bool\n",
            "class                         int64\n",
            "event_national                 bool\n",
            "holiday_national               bool\n",
            "holiday_local                  bool\n",
            "month                         int64\n",
            "day_of_month                  int64\n",
            "week_of_month                 int64\n",
            "day_of_week                   int64\n",
            "year                          int64\n",
            "season                        int64\n",
            "workday                        bool\n",
            "wageday                        bool\n",
            "month_sin                   float64\n",
            "month_cos                   float64\n",
            "day_of_month_sin            float64\n",
            "day_of_month_cos            float64\n",
            "week_of_month_sin           float64\n",
            "week_of_month_cos           float64\n",
            "day_of_week_sin             float64\n",
            "day_of_week_cos             float64\n",
            "season_sin                  float64\n",
            "season_cos                  float64\n",
            "tempmax                     float64\n",
            "tempmin                     float64\n",
            "oil_price                   float64\n",
            "item_name                    object\n",
            "dtype: object\n"
          ]
        }
      ]
    },
    {
      "cell_type": "markdown",
      "source": [
        "## Step 4: Data processing for models\n"
      ],
      "metadata": {
        "id": "E9X2uJWUD9zW"
      }
    },
    {
      "cell_type": "markdown",
      "source": [
        "Remove outliers from the data (days where the unit_sales is above 300) and remove the duplicates"
      ],
      "metadata": {
        "id": "6BeCA2XDwbNP"
      }
    },
    {
      "cell_type": "code",
      "source": [
        "# Load the data\n",
        "data_final = pd.read_csv('/content/drive/MyDrive/Master Thesis/Final Data/final_dataset.csv')\n",
        "\n",
        "# Convert 'date' to datetime if not already\n",
        "data_final['date'] = pd.to_datetime(data_final['date'])\n",
        "\n",
        "# Remove outliers\n",
        "filtered_data = data_final[data_final['unit_sales'] <= 250]\n",
        "\n",
        "# Remove duplicate dates within each item name, keeping the first occurrence\n",
        "filtered_data = filtered_data.drop_duplicates(subset=['item_name', 'date'], keep='first')\n",
        "\n",
        "# Save the filtered data back to the CSV file\n",
        "filtered_data.to_csv('/content/drive/MyDrive/Master Thesis/Final Data/final_dataset.csv', index=False)"
      ],
      "metadata": {
        "id": "8Y3hPCEY_BGM"
      },
      "execution_count": null,
      "outputs": []
    },
    {
      "cell_type": "markdown",
      "source": [
        "Fill the missing values of the final dataset: oil price\n",
        "\n",
        "Forward Filling: This method propagates the last observed non-null value forward until another non-null value is encountered. It's particularly useful in time series where data points are likely to be similar to their immediate predecessors."
      ],
      "metadata": {
        "id": "M25kPu7xwj1n"
      }
    },
    {
      "cell_type": "code",
      "source": [
        "# Load the final_dataset CSV into a DataFrame\n",
        "data_final = pd.read_csv('/content/drive/MyDrive/Master Thesis/Final Data/final_dataset.csv')\n",
        "\n",
        "# Forward fill the missing values in the 'oil_price' column\n",
        "data_final['oil_price'] = data_final['oil_price'].fillna(method='ffill')\n",
        "\n",
        "# If the first value(s) in 'oil_price' are still NaN (because forward fill cannot fill them), fill them with the column's mean\n",
        "if data_final['oil_price'].isnull().any():\n",
        "    data_final['oil_price'] = data_final['oil_price'].fillna(data_final['oil_price'].mean())\n",
        "\n",
        "# Check if there are still any missing values in the 'oil_price' column\n",
        "missing_values = data_final['oil_price'].isnull().sum()\n",
        "\n",
        "if missing_values > 0:\n",
        "    print(\"There are still\", missing_values, \"missing values in the 'oil_price' column.\")\n",
        "else:\n",
        "    print(\"There are no missing values in the 'oil_price' column.\")\n",
        "\n",
        "# Save the filtered data back to the original CSV file\n",
        "data_final.to_csv('/content/drive/MyDrive/Master Thesis/Final Data/final_dataset.csv', index=False)"
      ],
      "metadata": {
        "colab": {
          "base_uri": "https://localhost:8080/"
        },
        "id": "4oaqheCs78xd",
        "outputId": "67076cc4-7b7c-4729-de94-4d83bb2b5bf4"
      },
      "execution_count": null,
      "outputs": [
        {
          "output_type": "stream",
          "name": "stdout",
          "text": [
            "There are no missing values in the 'oil_price' column.\n"
          ]
        }
      ]
    }
  ]
}